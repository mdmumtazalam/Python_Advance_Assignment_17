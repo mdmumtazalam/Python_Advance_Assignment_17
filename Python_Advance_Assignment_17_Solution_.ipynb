{
  "cells": [
    {
      "cell_type": "markdown",
      "id": "73905f51",
      "metadata": {
        "id": "73905f51"
      },
      "source": [
        "# Python_Advance_Assignment_17 Solution :-\n",
        "SUBMITTED BY: MD MUMTAZ ALAM"
      ]
    },
    {
      "cell_type": "markdown",
      "id": "1a76b641",
      "metadata": {
        "id": "1a76b641"
      },
      "source": [
        "## Q1. Explain the difference between greedy and non-greedy syntax with visual terms in as few words as possible. What is the bare minimum effort required to transform a greedy pattern into a non-greedy one? What characters or characters can you introduce or change?"
      ]
    },
    {
      "cell_type": "markdown",
      "id": "615b1df8",
      "metadata": {
        "id": "615b1df8"
      },
      "source": [
        "#### Ans: \n",
        "The Main difference between Greedy and Non Greedy Match Syntax is that the Greedy Match will try to match as many repetitions of the quantified pattern as possible Whereas the Non Greedy Match will try to match as few repetitions of the quantified pattern as possible so that it still can match the pattern in the given string"
      ]
    },
    {
      "cell_type": "code",
      "execution_count": null,
      "id": "947db4c1",
      "metadata": {
        "id": "947db4c1",
        "outputId": "8abb47c9-0372-4c60-bbfe-df2554d22659"
      },
      "outputs": [
        {
          "name": "stdout",
          "output_type": "stream",
          "text": [
            "['aaaaaa', '']\n",
            "['', 'a', '', 'a', '', 'a', '', 'a', '', 'a', '', 'a', '']\n"
          ]
        }
      ],
      "source": [
        "import re\n",
        "print(re.findall(\"a*\", \"aaaaaa\")) # Greedy Match Synatx\n",
        "print(re.findall(\"a*?\", \"aaaaaa\")) # Non Greddy Syntax"
      ]
    },
    {
      "cell_type": "markdown",
      "id": "eec86ba4",
      "metadata": {
        "id": "eec86ba4"
      },
      "source": [
        "## Q2. When exactly does greedy versus non-greedy make a difference? What if you're looking for a non-greedy match but the only one available is greedy?"
      ]
    },
    {
      "cell_type": "markdown",
      "id": "990a3846",
      "metadata": {
        "id": "990a3846"
      },
      "source": [
        "#### Ans: \n",
        "The Greedy Match will try to match as many repetitions of the quantified pattern as possible. The Non Greedy Match will try to match as few repetitions of the quantified pattern as possible. If only Non Greedy Match is available, we can use other filtering or pattern matching methods of regex and further identify the required pattern."
      ]
    },
    {
      "cell_type": "markdown",
      "id": "f9ff740d",
      "metadata": {
        "id": "f9ff740d"
      },
      "source": [
        "## Q3. In a simple match of a string, which looks only for one match and does not do any replacement, is the use of a nontagged group likely to make any practical difference?"
      ]
    },
    {
      "cell_type": "markdown",
      "id": "e2746014",
      "metadata": {
        "id": "e2746014"
      },
      "source": [
        "#### Ans: \n",
        "In this Case, the Non-Tagged Group will not make any difference. This is shown below:"
      ]
    },
    {
      "cell_type": "code",
      "execution_count": null,
      "id": "6d37e4da",
      "metadata": {
        "id": "6d37e4da",
        "outputId": "d8bd6d5e-fff0-4f3b-851a-e9bb150153b2"
      },
      "outputs": [
        {
          "name": "stdout",
          "output_type": "stream",
          "text": [
            "Phone number found -> 123\n",
            "Phone number found -> 123\n"
          ]
        }
      ],
      "source": [
        "import re\n",
        "phoneNumRegex = re.compile(r'\\d\\d\\d')\n",
        "num = phoneNumRegex.search('My number is 123-456-7891.')\n",
        "print(f'Phone number found -> {num.group()}') # Non Tagged group\n",
        "print(f'Phone number found -> {num.group(0)}') # Tagged Group"
      ]
    },
    {
      "cell_type": "markdown",
      "id": "086ab374",
      "metadata": {
        "id": "086ab374"
      },
      "source": [
        "## Q4. Describe a scenario in which using a nontagged category would have a significant impact on the program's outcomes ?"
      ]
    },
    {
      "cell_type": "markdown",
      "id": "21f75647",
      "metadata": {
        "id": "21f75647"
      },
      "source": [
        "#### Ans: \n",
        "Here in the below Code Snippet . decimal is not tagged or captured. Hence, it will be useful in scenarios where the separator of value in a string is of no use and we need to capture only the values."
      ]
    },
    {
      "cell_type": "code",
      "execution_count": null,
      "id": "cfefbf14",
      "metadata": {
        "id": "cfefbf14",
        "outputId": "e5d23438-2f6d-42c9-9719-ecab6c3bb077"
      },
      "outputs": [
        {
          "data": {
            "text/plain": [
              "('123', '456')"
            ]
          },
          "execution_count": 3,
          "metadata": {},
          "output_type": "execute_result"
        }
      ],
      "source": [
        "import re\n",
        "text='123.456'\n",
        "pattern=r'(\\d+)(?:.)(\\d+)'\n",
        "regobj=re.compile(pattern)\n",
        "matobj=regobj.search(text)\n",
        "matobj.groups()"
      ]
    },
    {
      "cell_type": "markdown",
      "id": "d8c55d58",
      "metadata": {
        "id": "d8c55d58"
      },
      "source": [
        "## Q5. Unlike a normal regex pattern, a look-ahead condition does not consume the characters it examines. Describe a situation in which this could make a difference in the results of your programme ?"
      ]
    },
    {
      "cell_type": "markdown",
      "id": "82b6ff81",
      "metadata": {
        "id": "82b6ff81"
      },
      "source": [
        "#### Ans: \n",
        "While counting the number of multiple lines or mutiple sentences in a string, the positive look ahead makes a difference, without which we will not be able to get the correct count of lines or sentences in a string."
      ]
    },
    {
      "cell_type": "markdown",
      "id": "04ea0371",
      "metadata": {
        "id": "04ea0371"
      },
      "source": [
        "## Q6. In standard expressions, what is the difference between positive look-ahead and negative look-ahead ?"
      ]
    },
    {
      "cell_type": "markdown",
      "id": "4add2e52",
      "metadata": {
        "id": "4add2e52"
      },
      "source": [
        "#### Ans: \n",
        "Positive Look-ahead allows to add a condition for what follows. Negative Lookahead is similar, but it looks behind. That is, it allows to match a pattern only if there’s something before it.\n",
        "\n",
        "Syntax Positive Look-Ahead: X(?=Y) Syntax Negative Look-Ahead: X(?!Y)"
      ]
    },
    {
      "cell_type": "code",
      "execution_count": null,
      "id": "1e484ce7",
      "metadata": {
        "id": "1e484ce7",
        "outputId": "596ecad7-cc15-42ce-d411-4d6efa8f5af5"
      },
      "outputs": [
        {
          "name": "stdout",
          "output_type": "stream",
          "text": [
            "4\n"
          ]
        }
      ],
      "source": [
        "#Positive Look Ahead\n",
        "import re\n",
        "\n",
        "s = '1 Python is about 4 feet long'\n",
        "pattern = '\\d+(?=\\s*feet)'\n",
        "\n",
        "matches = re.finditer(pattern,s)\n",
        "for match in matches:\n",
        "    print(match.group())"
      ]
    },
    {
      "cell_type": "code",
      "execution_count": null,
      "id": "8dcea675",
      "metadata": {
        "id": "8dcea675",
        "outputId": "e577b1ce-8232-448d-a668-778458204dc2"
      },
      "outputs": [
        {
          "name": "stdout",
          "output_type": "stream",
          "text": [
            "1\n"
          ]
        }
      ],
      "source": [
        "#Negative Look Ahead\n",
        "import re\n",
        "\n",
        "s = '1 Python is about 4 feet long'\n",
        "pattern = '\\d+(?!\\s*feet)'\n",
        "\n",
        "matches = re.finditer(pattern,s)\n",
        "for match in matches:\n",
        "    print(match.group())"
      ]
    },
    {
      "cell_type": "markdown",
      "id": "4cfd622e",
      "metadata": {
        "id": "4cfd622e"
      },
      "source": [
        "## Q7. What is the benefit of referring to groups by name rather than by number in a standard expression?"
      ]
    },
    {
      "cell_type": "markdown",
      "id": "de87d440",
      "metadata": {
        "id": "de87d440"
      },
      "source": [
        "#### Ans: \n",
        "The advantage to named groups is that it adds readability and understandability to the code, so that you can easily see what part of a regular expression match is being referenced."
      ]
    },
    {
      "cell_type": "markdown",
      "id": "54206068",
      "metadata": {
        "id": "54206068"
      },
      "source": [
        "## Q8. Can you identify repeated items within a target string using named groups, as in \"The cow jumped over the moon\"?"
      ]
    },
    {
      "cell_type": "code",
      "execution_count": null,
      "id": "80a60c5c",
      "metadata": {
        "id": "80a60c5c",
        "outputId": "a98a491d-8703-440c-c055-697c526d80ba"
      },
      "outputs": [
        {
          "data": {
            "text/plain": [
              "['The', 'the']"
            ]
          },
          "execution_count": 6,
          "metadata": {},
          "output_type": "execute_result"
        }
      ],
      "source": [
        "import re\n",
        "text = \"The cow jumped over the moon\"\n",
        "regobj=re.compile(r'(?P<w1>The)',re.I)\n",
        "regobj.findall(text)"
      ]
    },
    {
      "cell_type": "markdown",
      "id": "9763f5c7",
      "metadata": {
        "id": "9763f5c7"
      },
      "source": [
        "## Q9. When parsing a string, what is at least one thing that the Scanner interface does for you that the re.findall feature does not ?"
      ]
    },
    {
      "cell_type": "markdown",
      "id": "b5c90bf1",
      "metadata": {
        "id": "b5c90bf1"
      },
      "source": [
        "#### Ans: \n",
        "re.findall() module is used to search for all occurrences that match a given pattern. In contrast, re.search() will only return the first occurrence that matches the specified pattern. re.findall() will iterate over all the lines of the file and will return all non-overlapping matches of pattern in a single step."
      ]
    },
    {
      "cell_type": "markdown",
      "id": "5795356d",
      "metadata": {
        "id": "5795356d"
      },
      "source": [
        " ## Q10. Does a scanner object have to be named scanner?"
      ]
    },
    {
      "cell_type": "markdown",
      "id": "cdbaf92a",
      "metadata": {
        "id": "cdbaf92a"
      },
      "source": [
        "#### Ans: \n",
        "No, It may have any name. For example instead of naming Scanner object as scanner, we can name as sc"
      ]
    },
    {
      "cell_type": "markdown",
      "id": "5184a42c",
      "metadata": {
        "id": "5184a42c"
      },
      "source": [
        "# Thank You"
      ]
    }
  ],
  "metadata": {
    "kernelspec": {
      "display_name": "Python 3 (ipykernel)",
      "language": "python",
      "name": "python3"
    },
    "language_info": {
      "codemirror_mode": {
        "name": "ipython",
        "version": 3
      },
      "file_extension": ".py",
      "mimetype": "text/x-python",
      "name": "python",
      "nbconvert_exporter": "python",
      "pygments_lexer": "ipython3",
      "version": "3.9.7"
    },
    "colab": {
      "provenance": []
    }
  },
  "nbformat": 4,
  "nbformat_minor": 5
}